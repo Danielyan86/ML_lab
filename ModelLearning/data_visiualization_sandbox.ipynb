{
 "cells": [
  {
   "cell_type": "code",
   "id": "initial_id",
   "metadata": {
    "collapsed": true,
    "ExecuteTime": {
     "end_time": "2024-09-15T03:39:47.959021Z",
     "start_time": "2024-09-15T03:39:47.363011Z"
    }
   },
   "source": [
    "from sklearn.datasets import fetch_california_housing\n",
    "\n",
    "# print the data of the fetch_california_housing dataset\n",
    "print(fetch_california_housing().data)"
   ],
   "outputs": [
    {
     "name": "stdout",
     "output_type": "stream",
     "text": [
      "[[   8.3252       41.            6.98412698 ...    2.55555556\n",
      "    37.88       -122.23      ]\n",
      " [   8.3014       21.            6.23813708 ...    2.10984183\n",
      "    37.86       -122.22      ]\n",
      " [   7.2574       52.            8.28813559 ...    2.80225989\n",
      "    37.85       -122.24      ]\n",
      " ...\n",
      " [   1.7          17.            5.20554273 ...    2.3256351\n",
      "    39.43       -121.22      ]\n",
      " [   1.8672       18.            5.32951289 ...    2.12320917\n",
      "    39.43       -121.32      ]\n",
      " [   2.3886       16.            5.25471698 ...    2.61698113\n",
      "    39.37       -121.24      ]]\n"
     ]
    }
   ],
   "execution_count": 1
  },
  {
   "metadata": {
    "ExecuteTime": {
     "end_time": "2024-09-15T03:40:21.766689Z",
     "start_time": "2024-09-15T03:40:21.755496Z"
    }
   },
   "cell_type": "code",
   "source": [
    "# show the columns of the fetch_california_housing dataset\n",
    "print(fetch_california_housing().feature_names)"
   ],
   "id": "6b79b400150ef9f",
   "outputs": [
    {
     "name": "stdout",
     "output_type": "stream",
     "text": [
      "['MedInc', 'HouseAge', 'AveRooms', 'AveBedrms', 'Population', 'AveOccup', 'Latitude', 'Longitude']\n"
     ]
    }
   ],
   "execution_count": 2
  },
  {
   "metadata": {
    "ExecuteTime": {
     "end_time": "2024-09-15T03:43:36.915371Z",
     "start_time": "2024-09-15T03:43:36.818073Z"
    }
   },
   "cell_type": "code",
   "source": [
    "# use plotly to visualize the data\n",
    "import plotly.express as px\n",
    "import pandas\n",
    "\n",
    "# download the data as csv\n",
    "data = fetch_california_housing()\n",
    "df = pandas.DataFrame(data.data, columns=data.feature_names)\n",
    "\n",
    "df['house_value'] = data.target\n",
    "df.to_csv('california_housing.csv', index=False)\n"
   ],
   "id": "d2f4ca3c9f4a08ff",
   "outputs": [],
   "execution_count": 4
  },
  {
   "metadata": {},
   "cell_type": "code",
   "outputs": [],
   "execution_count": null,
   "source": "",
   "id": "f7d0130258938ce0"
  }
 ],
 "metadata": {
  "kernelspec": {
   "display_name": "Python 3",
   "language": "python",
   "name": "python3"
  },
  "language_info": {
   "codemirror_mode": {
    "name": "ipython",
    "version": 2
   },
   "file_extension": ".py",
   "mimetype": "text/x-python",
   "name": "python",
   "nbconvert_exporter": "python",
   "pygments_lexer": "ipython2",
   "version": "2.7.6"
  }
 },
 "nbformat": 4,
 "nbformat_minor": 5
}
