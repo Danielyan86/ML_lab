{
 "cells": [
  {
   "cell_type": "code",
   "execution_count": null,
   "id": "initial_id",
   "metadata": {
    "collapsed": true
   },
   "outputs": [],
   "source": []
  },
  {
   "cell_type": "markdown",
   "id": "86379187",
   "metadata": {},
   "source": [
    "# CART is a classification and regression tree:\n",
    "- Use gin index for the classification problem\n",
    "- Use mse for the regression problem\n"
   ]
  },
  {
   "cell_type": "markdown",
   "id": "a1e49550",
   "metadata": {},
   "source": []
  },
  {
   "cell_type": "markdown",
   "id": "011e1eb5",
   "metadata": {},
   "source": []
  },
  {
   "cell_type": "markdown",
   "id": "948d5e48",
   "metadata": {},
   "source": []
  },
  {
   "cell_type": "markdown",
   "id": "dd533547",
   "metadata": {},
   "source": [
    "\n",
    "Gini = 1 - \\sum_{i=1}^{K} p_i^2\n"
   ]
  },
  {
   "cell_type": "markdown",
   "id": "1d3f7c00",
   "metadata": {},
   "source": [
    "se mse for the regression problem\n",
    "\n",
    "# Gini index\n",
    "\n",
    "Gini = 1 - \\sum_{i=1}^{K} p_i^2\n"
   ]
  },
  {
   "cell_type": "code",
   "execution_count": null,
   "id": "d9620f777e4456db",
   "metadata": {},
   "outputs": [],
   "source": []
  }
 ],
 "metadata": {
  "kernelspec": {
   "display_name": "Python 3",
   "language": "python",
   "name": "python3"
  },
  "language_info": {
   "codemirror_mode": {
    "name": "ipython",
    "version": 2
   },
   "file_extension": ".py",
   "mimetype": "text/x-python",
   "name": "python",
   "nbconvert_exporter": "python",
   "pygments_lexer": "ipython2",
   "version": "2.7.6"
  }
 },
 "nbformat": 4,
 "nbformat_minor": 5
}
